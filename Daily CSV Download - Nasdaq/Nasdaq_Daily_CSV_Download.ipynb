{
 "cells": [
  {
   "cell_type": "code",
   "execution_count": 1,
   "id": "d29ba738",
   "metadata": {},
   "outputs": [],
   "source": [
    "import time,os,sys,re,datetime\n",
    "#packages to open edge browser\n",
    "from selenium import webdriver\n",
    "from selenium.webdriver.chrome.options import Options\n",
    "from selenium.webdriver.chrome.service import Service\n",
    "from webdriver_manager.chrome import ChromeDriverManager\n",
    "# packages to search through html\n",
    "from selenium.webdriver.common.keys import Keys\n",
    "from selenium.webdriver.common.by import By"
   ]
  },
  {
   "cell_type": "code",
   "execution_count": 2,
   "id": "2b500fb0",
   "metadata": {},
   "outputs": [],
   "source": [
    "#change this to your desired download folder\n",
    "download_directory = r\"..\\..\\..\\Downloads\\Nasdaq_stock_download\"\n",
    "\n",
    "options = Options()\n",
    "options.add_experimental_option(\"prefs\", {\n",
    "  \"download.default_directory\": os.path.abspath(download_directory)\n",
    "  })"
   ]
  },
  {
   "cell_type": "code",
   "execution_count": null,
   "id": "0c5a608b",
   "metadata": {},
   "outputs": [],
   "source": [
    "driver = webdriver.Chrome(service=Service(ChromeDriverManager().install()), options=options)\n",
    "driver.get(\"https://www.nasdaq.com/market-activity/stocks/screener\")"
   ]
  },
  {
   "cell_type": "code",
   "execution_count": null,
   "id": "e05e1f8b",
   "metadata": {},
   "outputs": [],
   "source": [
    "#click on the download button on nasdaq website\n",
    "driver.find_element(By.CLASS_NAME, 'nasdaq-screener__form-button--download').send_keys(Keys.RETURN)\n",
    "time.sleep(3)"
   ]
  },
  {
   "cell_type": "code",
   "execution_count": null,
   "id": "c2894781",
   "metadata": {
    "scrolled": true
   },
   "outputs": [],
   "source": [
    "#loop through download directory and rename according to download datetime\n",
    "for org_name in os.listdir(download_directory):\n",
    "    \n",
    "    #check if the name is more than 40 length. If more than 40 length, it would have been renamed before\n",
    "    if len(org_name) > 40:\n",
    "        break\n",
    "    \n",
    "    org_name_split = org_name.split('.')\n",
    "    \n",
    "    #identify download date\n",
    "    c_time = os.path.getctime(download_directory+'\\\\'+org_name)\n",
    "    dt_c = datetime.datetime.fromtimestamp(c_time).strftime(\"%Y_%m_%d_%H_%M_%S\")\n",
    "    \n",
    "    #assign new name\n",
    "    new_name = f\"Nasdaq_stock_screener_{dt_c}\"\n",
    "    \n",
    "    #assign new name with file extension\n",
    "    new_name = new_name+'.'+org_name_split[1]\n",
    "    \n",
    "    #rename file\n",
    "    os.replace(download_directory+'\\\\'+org_name,download_directory+'\\\\'+new_name)"
   ]
  }
 ],
 "metadata": {
  "kernelspec": {
   "display_name": "Python 3 (ipykernel)",
   "language": "python",
   "name": "python3"
  },
  "language_info": {
   "codemirror_mode": {
    "name": "ipython",
    "version": 3
   },
   "file_extension": ".py",
   "mimetype": "text/x-python",
   "name": "python",
   "nbconvert_exporter": "python",
   "pygments_lexer": "ipython3",
   "version": "3.9.12"
  }
 },
 "nbformat": 4,
 "nbformat_minor": 5
}
