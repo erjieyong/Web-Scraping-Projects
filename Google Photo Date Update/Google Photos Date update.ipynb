{
 "cells": [
  {
   "cell_type": "markdown",
   "id": "9496cbfe",
   "metadata": {},
   "source": [
    "# Google Photos Date Update"
   ]
  },
  {
   "cell_type": "markdown",
   "id": "ceed2fef",
   "metadata": {},
   "source": [
    "## Background\n",
    "\n",
    "This script is created for a specific use case to update whatsapp photos/videos uploaded to google photos.\n",
    "\n",
    "Whenever we turn on google photos to automatically upload photos on to an existing folder, it will upload photos based on the system created date and time. On the other hand, whenever we factory reset our phone or change a new phone, whatsapp will download all the backup images and videos onto the new phone again, albeit with the downloaded date and time.\n",
    "\n",
    "The problem exists when we get a new phone and turn on google photos automatic upload on a newly downloaded whatsapp folder of past images and videos. Google photos will upload all these images and videos and update it as the downloaded date although the actual photo shared date can be glean from the images and video file name.\n",
    "\n",
    "Take for example the following whatsapp image:\n",
    "- As of 1 January 2021, google photos was not turn on to automatically back up whatsapp images\n",
    "- First received via whatsapp on 1 January 2021. The image file name would be saved as 'IMG-20210101-WA0001.jpg'\n",
    "- Image was backed up by whatsapp to a cloud storage\n",
    "- On 11 Aug 2022, new phone was purchased. Whatsapp was restored on new phone\n",
    "- Image 'IMG-20210101-WA0001.jpg' was restored with creation date as 11 Aug 2022 <-- WRONG DATE\n",
    "- Google photos was turn on to automatic back up whatsapp images\n",
    "- Google photos upload 'IMG-20210101-WA0001.jpg' assuming it was taken on 11 Aug 2022\n",
    "\n",
    "This script will update google photos of the correct date that the image or video is received based on the file name. For the above example, the correct date would be 1 January 2021"
   ]
  },
  {
   "cell_type": "markdown",
   "id": "ecb54d5c",
   "metadata": {},
   "source": [
    "## Challenges\n",
    "\n",
    "- Attempt was initially made to make use of google api to update the date of the backed up photos. However, this attempt was unsuccessful as google api does not allow updating of metadata on photos not originally uploaded via the API. Source: https://developers.google.com/photos/library/reference/rest/v1/mediaItems/patch\"\n",
    "\n",
    "- Attempt was made to use selenium to automatically open a browser instance, navigate to google photos and log in. However, this was not successful as google is strict on preventing user from loggin in using automated software such as selenium.\n",
    "    - Note that this can be overcome using `undetected_chromedriver` package Source: https://github.com/ultrafunkamsterdam/undetected-chromedriver\n",
    "    - As such, we arrived at the following script which require users to create a new instance of microsoft edge browser and then attaching selenium to the browswer in order to control it automatically. We are able to overcome the google authentication problem this way"
   ]
  },
  {
   "cell_type": "markdown",
   "id": "5dfe495c",
   "metadata": {},
   "source": [
    "## Step 1\n",
    "\n",
    "Run the following code in command prompt\n",
    "`msedge.exe --remote-debugging-port=9222 --user-data-dir=\"..\\EdgeProfile\"`"
   ]
  },
  {
   "cell_type": "markdown",
   "id": "7decab77",
   "metadata": {},
   "source": [
    "## Step 2\n",
    "\n",
    "Run the following code in sequence"
   ]
  },
  {
   "cell_type": "code",
   "execution_count": 6,
   "id": "077455aa",
   "metadata": {},
   "outputs": [],
   "source": [
    "import undetected_chromedriver as uc\n",
    "import random,time,os,sys,re\n",
    "from selenium.webdriver.common.keys import Keys\n",
    "from selenium.webdriver.common.by import By\n",
    "from selenium import webdriver\n",
    "from selenium.webdriver.edge.options import Options"
   ]
  },
  {
   "cell_type": "code",
   "execution_count": 7,
   "id": "5d345e99",
   "metadata": {},
   "outputs": [
    {
     "name": "stderr",
     "output_type": "stream",
     "text": [
      "C:\\Users\\kyuno\\AppData\\Local\\Temp\\ipykernel_18524\\113437125.py:6: DeprecationWarning: executable_path has been deprecated, please pass in a Service object\n",
      "  driver = webdriver.Edge(edge_driver, options=edge_options)\n"
     ]
    },
    {
     "name": "stdout",
     "output_type": "stream",
     "text": [
      "New tab\n"
     ]
    }
   ],
   "source": [
    "#Attach selenium to edge instance\n",
    "edge_options = Options()\n",
    "edge_options.add_experimental_option(\"debuggerAddress\", \"127.0.0.1:9222\")\n",
    "#Change chrome driver path accordingly\n",
    "edge_driver = \"..\\\\..\\\\Google Photos Date update\\\\edgedriver_win64\\\\msedgedriver.exe\"\n",
    "driver = webdriver.Edge(edge_driver, options=edge_options)\n",
    "print(driver.title)"
   ]
  },
  {
   "cell_type": "code",
   "execution_count": 8,
   "id": "5adb3bd2",
   "metadata": {},
   "outputs": [],
   "source": [
    "#navigate to google photos\n",
    "driver.get(\"https://photos.google.com/\")"
   ]
  },
  {
   "cell_type": "markdown",
   "id": "a8236f12",
   "metadata": {},
   "source": [
    "## Step 3\n",
    "\n",
    "- Login to google photos manually using the web browser\n",
    "- Select the whatsapp image/video on google photos where the date is updated wrongly"
   ]
  },
  {
   "cell_type": "markdown",
   "id": "e73acc85",
   "metadata": {},
   "source": [
    "## Step 4"
   ]
  },
  {
   "cell_type": "code",
   "execution_count": 9,
   "id": "ce73ce7e",
   "metadata": {},
   "outputs": [],
   "source": [
    "#click on the more information button\n",
    "driver.find_element(By.CSS_SELECTOR,'button[aria-label=\"Open info\"]').send_keys(Keys.RETURN)"
   ]
  },
  {
   "cell_type": "code",
   "execution_count": 14,
   "id": "f5d790d2",
   "metadata": {
    "scrolled": true
   },
   "outputs": [
    {
     "name": "stdout",
     "output_type": "stream",
     "text": [
      "\n",
      "This is the 1 photo\n",
      "1) https://photos.google.com/search/11%20Aug%202022/photo/AF1QipOTqLd7-p2gor4ZlkrmXSTRCEX8eNXRB3DjOXOX\n",
      "2) 2021 01 01\n",
      "3) pressed edit button\n",
      "4) keyed in correct date\n",
      "5) pressed saved button\n"
     ]
    },
    {
     "ename": "KeyboardInterrupt",
     "evalue": "",
     "output_type": "error",
     "traceback": [
      "\u001b[1;31m---------------------------------------------------------------------------\u001b[0m",
      "\u001b[1;31mKeyboardInterrupt\u001b[0m                         Traceback (most recent call last)",
      "Input \u001b[1;32mIn [14]\u001b[0m, in \u001b[0;36m<cell line: 2>\u001b[1;34m()\u001b[0m\n\u001b[0;32m     50\u001b[0m     time\u001b[38;5;241m.\u001b[39msleep(\u001b[38;5;241m5\u001b[39m)\n\u001b[0;32m     51\u001b[0m \u001b[38;5;28;01melse\u001b[39;00m:\n\u001b[1;32m---> 52\u001b[0m     \u001b[43mtime\u001b[49m\u001b[38;5;241;43m.\u001b[39;49m\u001b[43msleep\u001b[49m\u001b[43m(\u001b[49m\u001b[38;5;241;43m2\u001b[39;49m\u001b[43m)\u001b[49m\n",
      "\u001b[1;31mKeyboardInterrupt\u001b[0m: "
     ]
    }
   ],
   "source": [
    "#Perform a loop of 1000 cycle to update the photos date\n",
    "for x in range(1000):\n",
    "    #find the filename\n",
    "    #pic_name = driver.find_element(By.CSS_SELECTOR,'div[aria-label*=\"Filename: IMG\"]')\n",
    "    pic_name = driver.find_element(By.XPATH,'(//div[@aria-label = contains(.,\"Filename: IMG\")])')\n",
    "    print(f'\\nThis is the {x+1} photo')\n",
    "    print('1) '+ driver.current_url)    \n",
    "    time.sleep(0.2)\n",
    "    \n",
    "    #for every 5 photos, open and close the edit button. This helps to reduces the memory load. Otherwise, after updating around 50 images, the browser will hang due to memory overload\n",
    "    if x>0 and x%5 == 0:\n",
    "        time.sleep(1)\n",
    "        driver.find_element(By.XPATH,\"html\").send_keys(\"e\")\n",
    "        time.sleep(2)\n",
    "        driver.find_element(By.XPATH,\"html\").send_keys(\"e\")\n",
    "        time.sleep(2)\n",
    "        print('**open and close edit side panel**')\n",
    "    \n",
    "    try:\n",
    "        #sort out the date data\n",
    "        match = re.search(\"-(\\d{4})(\\d{2})(\\d{2})\",pic_name.text)\n",
    "        print('2) '+ match.group(1),match.group(2),match.group(3))\n",
    "        time.sleep(0.2)\n",
    "        \n",
    "        #click on the date time edit button by finding parent that does not have 'display:none'\n",
    "        #Note to self: to provide dual conditions such as class name and then the 2nd instance of that class name, bracket the first condition (eg. [the class name]), then use square brackets again to input the second condition (eg.[2] to select the second instance) \n",
    "        driver.find_element(By.XPATH,\"((//c-wiz[@class='WUbige'])[not(contains(@style,'display: none;'))])/*/*/*/*/div[@class='ffq9nc Kd04rd']\").send_keys(Keys.RETURN)\n",
    "        print('3) pressed edit button')\n",
    "        time.sleep(1)\n",
    "        \n",
    "        #input the year, month, day with the data extract from the file name\n",
    "        driver.find_element(By.CSS_SELECTOR,'input[aria-label=\"Year\"]').send_keys(match.group(1))\n",
    "        driver.find_element(By.CSS_SELECTOR,'input[aria-label=\"Month\"]').send_keys(match.group(2))\n",
    "        driver.find_element(By.CSS_SELECTOR,'input[aria-label=\"Day\"]').send_keys(match.group(3))\n",
    "        print('4) keyed in correct date')\n",
    "        \n",
    "        #click save\n",
    "        driver.find_element(By.XPATH,\"(//button[@class='VfPpkd-LgbsSe VfPpkd-LgbsSe-OWXEXe-k8QpJ nCP5yc AjY5Oe LQeN7 kHssdc HvOprf'])[2]\").send_keys(Keys.RETURN)\n",
    "        print('5) pressed saved button')\n",
    "        time.sleep(1)\n",
    "        \n",
    "    except:\n",
    "        print('something went wrong!')\n",
    "        pass\n",
    "\n",
    "    \n",
    "    #click next to go to next photo\n",
    "    driver.find_element(By.XPATH,\"html\").send_keys(Keys.RIGHT) #this is more stable\n",
    "    if x>0 and x%5 == 0:\n",
    "        time.sleep(5)\n",
    "    else:\n",
    "        time.sleep(2)\n",
    "    "
   ]
  }
 ],
 "metadata": {
  "kernelspec": {
   "display_name": "Python 3 (ipykernel)",
   "language": "python",
   "name": "python3"
  },
  "language_info": {
   "codemirror_mode": {
    "name": "ipython",
    "version": 3
   },
   "file_extension": ".py",
   "mimetype": "text/x-python",
   "name": "python",
   "nbconvert_exporter": "python",
   "pygments_lexer": "ipython3",
   "version": "3.9.12"
  }
 },
 "nbformat": 4,
 "nbformat_minor": 5
}
